{
 "cells": [
  {
   "cell_type": "code",
   "execution_count": 2,
   "id": "0d837b7c",
   "metadata": {},
   "outputs": [],
   "source": [
    "import pandas as pd"
   ]
  },
  {
   "cell_type": "code",
   "execution_count": 3,
   "id": "fa56a35c",
   "metadata": {},
   "outputs": [
    {
     "name": "stdout",
     "output_type": "stream",
     "text": [
      "               Source         Target  Weight            typeTrans  fraud\n",
      "0       'C1093826151'   'M348934600'    4.55  'es_transportation'      0\n",
      "1        'C352968107'   'M348934600'   39.68  'es_transportation'      0\n",
      "2       'C2054744914'  'M1823072687'   26.89  'es_transportation'      0\n",
      "3       'C1760612790'   'M348934600'   17.25  'es_transportation'      0\n",
      "4        'C757503768'   'M348934600'   35.72  'es_transportation'      0\n",
      "...               ...            ...     ...                  ...    ...\n",
      "594638  'C1753498738'  'M1823072687'   20.53  'es_transportation'      0\n",
      "594639   'C650108285'  'M1823072687'   50.73  'es_transportation'      0\n",
      "594640   'C123623130'   'M349281107'   22.44         'es_fashion'      0\n",
      "594641  'C1499363341'  'M1823072687'   14.46  'es_transportation'      0\n",
      "594642   'C616528518'  'M1823072687'   26.93  'es_transportation'      0\n",
      "\n",
      "[594643 rows x 5 columns]\n"
     ]
    }
   ],
   "source": [
    "df = pd.read_csv(r'D:\\repository\\CapstoneProject\\datasets\\cc fraud short\\bsNET140513_032310.csv')\n",
    "print(df)"
   ]
  },
  {
   "cell_type": "code",
   "execution_count": null,
   "id": "de22efdd",
   "metadata": {},
   "outputs": [],
   "source": []
  }
 ],
 "metadata": {
  "kernelspec": {
   "display_name": "Python 3 (ipykernel)",
   "language": "python",
   "name": "python3"
  },
  "language_info": {
   "codemirror_mode": {
    "name": "ipython",
    "version": 3
   },
   "file_extension": ".py",
   "mimetype": "text/x-python",
   "name": "python",
   "nbconvert_exporter": "python",
   "pygments_lexer": "ipython3",
   "version": "3.9.12"
  }
 },
 "nbformat": 4,
 "nbformat_minor": 5
}
